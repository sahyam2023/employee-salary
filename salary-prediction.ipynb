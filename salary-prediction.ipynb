{
  "cells": [
    {
      "cell_type": "markdown",
      "metadata": {
        "id": "V0SD8SGyAAjU"
      },
      "source": [
        "**IMPORTING MODULES**\n",
        "\n",
        "\n"
      ]
    },
    {
      "cell_type": "code",
      "execution_count": null,
      "metadata": {
        "id": "ktxipYSbE1iJ"
      },
      "outputs": [],
      "source": [
        "#add all import files here\n",
        "# Import necessary modules for data analysis and visualization\n",
        "import pandas as pd\n",
        "import matplotlib.pyplot as plt\n",
        "import seaborn as sns\n",
        "from sklearn.model_selection import train_test_split\n",
        "from sklearn.model_selection import train_test_split\n",
        "import warnings\n",
        "warnings.filterwarnings('ignore')\n",
        "\n",
        "\n",
        "# Set the style of seaborn for better visualization\n",
        "sns.set(style=\"whitegrid\")\n",
        "\n",
        "# Ensure that plots are displayed in the notebook\n",
        "%matplotlib inline\n",
        "\n",
        "\n"
      ]
    },
    {
      "cell_type": "markdown",
      "metadata": {
        "id": "FYQjt95wHvMH"
      },
      "source": [
        "**READING CSV FILE**\n",
        "\n",
        "\n"
      ]
    },
    {
      "cell_type": "code",
      "execution_count": null,
      "metadata": {
        "id": "6vvXxNI5HBp0"
      },
      "outputs": [],
      "source": [
        "#reading csv (DON'T ADD ANYTHING HERE)\n",
        "\n",
        "url = \"https://raw.githubusercontent.com/sahyam2023/employee-salary/main/Salary_Data.csv\"\n",
        "\n",
        "# Read the CSV file into a Pandas DataFrame\n",
        "df = pd.read_csv(url)\n"
      ]
    },
    {
      "cell_type": "markdown",
      "metadata": {
        "id": "q0ZF7ovJH2_p"
      },
      "source": [
        "**CHECKING IF CSV IS PROPERLY IMPORTED BY RUNNING HEAD**\n",
        "\n",
        "\n"
      ]
    },
    {
      "cell_type": "code",
      "execution_count": null,
      "metadata": {
        "colab": {
          "base_uri": "https://localhost:8080/",
          "height": 206
        },
        "id": "9nIP3kFWHRq1",
        "outputId": "3db7d884-3a09-478a-c741-14f3897e7236"
      },
      "outputs": [],
      "source": [
        "df.head()"
      ]
    },
    {
      "cell_type": "markdown",
      "metadata": {
        "id": "TpAJWiwZITsb"
      },
      "source": [
        "# **DATA CLEANING STARTS FROM HERE**\n",
        "\n",
        "\n"
      ]
    },
    {
      "cell_type": "code",
      "execution_count": null,
      "metadata": {
        "colab": {
          "base_uri": "https://localhost:8080/"
        },
        "id": "LhQS97hvB2qd",
        "outputId": "51bb2f70-23bb-4df0-8d1d-8af90e5f7373"
      },
      "outputs": [],
      "source": [
        "# Checking for missing values\n",
        "print(df.isnull().sum())\n"
      ]
    },
    {
      "cell_type": "code",
      "execution_count": null,
      "metadata": {
        "id": "moGNrt6CB6Zw"
      },
      "outputs": [],
      "source": [
        "# Handling missing data: Drop rows with missing values\n",
        "df = df.dropna()\n",
        "\n",
        "# df['column_name'].fillna(df['column_name'].mean(), inplace=True)\n",
        "\n"
      ]
    },
    {
      "cell_type": "code",
      "execution_count": null,
      "metadata": {
        "colab": {
          "base_uri": "https://localhost:8080/"
        },
        "id": "bymjrDXAB-VO",
        "outputId": "7174e1eb-ebdb-4493-f632-2f6c81bc18c6"
      },
      "outputs": [],
      "source": [
        "# Checking for errors and inconsistencies  it excludes the repeating ones\n",
        "print(\"Unique values in 'Gender':\", df['Gender'].unique())\n",
        "print(\"Unique values in 'Education Level':\", df['Education Level'].unique())\n",
        "print(\"Unique values in 'Job Title':\", df['Job Title'].unique())\n"
      ]
    },
    {
      "cell_type": "code",
      "execution_count": null,
      "metadata": {
        "id": "8wHRG40sCGoV"
      },
      "outputs": [],
      "source": [
        "# Standardizing formats\n",
        "df['Gender'] = df['Gender'].str.lower()\n",
        "df['Education Level'] = df['Education Level'].str.lower()\n",
        "df['Job Title'] = df['Job Title'].str.lower()\n"
      ]
    },
    {
      "cell_type": "code",
      "execution_count": null,
      "metadata": {
        "colab": {
          "base_uri": "https://localhost:8080/"
        },
        "id": "au7dH93-CLr5",
        "outputId": "d18b7637-f58e-4d03-ba96-f0f0da25382f"
      },
      "outputs": [],
      "source": [
        "# Displaying cleaned dataset\n",
        "print(df.head())\n"
      ]
    },
    {
      "cell_type": "markdown",
      "metadata": {},
      "source": [
        "# **EDA STARTS FROM HERE (EXPLANATORY DATA ANALYSIS)**"
      ]
    },
    {
      "cell_type": "code",
      "execution_count": null,
      "metadata": {
        "colab": {
          "base_uri": "https://localhost:8080/"
        },
        "id": "luXwSB31CVYr",
        "outputId": "05db3cd7-e63a-4059-b710-d76d70c4b499"
      },
      "outputs": [],
      "source": [
        "# Descriptive statistics of the dataset\n",
        "print(df.describe())\n"
      ]
    },
    {
      "cell_type": "markdown",
      "metadata": {},
      "source": [
        "**Explore the distribution of `Age`**\n"
      ]
    },
    {
      "cell_type": "code",
      "execution_count": null,
      "metadata": {
        "colab": {
          "base_uri": "https://localhost:8080/",
          "height": 573
        },
        "id": "LMMyDyxWCs14",
        "outputId": "057f024a-4f88-4e3d-ce6b-35b7354b0c13"
      },
      "outputs": [],
      "source": [
        "plt.figure(figsize=(8, 6))\n",
        "sns.histplot(df['Age'], bins=20, kde=True, color='orange')\n",
        "plt.title('Distribution of Age')\n",
        "plt.show()\n",
        "\n"
      ]
    },
    {
      "cell_type": "markdown",
      "metadata": {},
      "source": [
        "**Impact of `Education Level` on `Salary`**"
      ]
    },
    {
      "cell_type": "code",
      "execution_count": null,
      "metadata": {
        "colab": {
          "base_uri": "https://localhost:8080/",
          "height": 666
        },
        "id": "N6e31VNJD-T9",
        "outputId": "1355e441-c968-4a1c-b25a-0a2bc2cd3c31"
      },
      "outputs": [],
      "source": [
        "plt.figure(figsize=(12, 6))\n",
        "sns.boxplot(x='Education Level', y='Salary', data=df, palette='viridis')\n",
        "plt.title('Impact of Education Level on Salary')\n",
        "plt.xticks(rotation=45)\n",
        "plt.show()\n"
      ]
    },
    {
      "cell_type": "markdown",
      "metadata": {},
      "source": [
        "**Impact of `Job title` on `salary`**"
      ]
    },
    {
      "cell_type": "code",
      "execution_count": null,
      "metadata": {
        "colab": {
          "base_uri": "https://localhost:8080/",
          "height": 597
        },
        "id": "ST7zsf1ZEERe",
        "outputId": "f6a6a5c6-41a1-4092-9092-dfdf01c3618a"
      },
      "outputs": [],
      "source": [
        "# Identify the top 10 most repeated job titles\n",
        "top_job_titles = df['Job Title'].value_counts().nlargest(10).index\n",
        "\n",
        "# Filter the DataFrame to include only the rows with the top job titles\n",
        "df_top_jobs = df[df['Job Title'].isin(top_job_titles)]\n",
        "\n",
        "# Visualize the impact of 'Job Title' on 'Salary' for the top 10 job titles\n",
        "plt.figure(figsize=(14, 6))\n",
        "sns.boxplot(x='Job Title', y='Salary', data=df_top_jobs, palette='mako')\n",
        "plt.title('Impact of Job Title on Salary (Top 10)')\n",
        "plt.xticks(rotation=45, ha='right', rotation_mode='anchor')\n",
        "plt.tight_layout()\n",
        "plt.show()\n",
        "\n"
      ]
    },
    {
      "cell_type": "markdown",
      "metadata": {},
      "source": [
        "**Impact of `Gender` on `Salary`**"
      ]
    },
    {
      "cell_type": "code",
      "execution_count": null,
      "metadata": {
        "colab": {
          "base_uri": "https://localhost:8080/",
          "height": 573
        },
        "id": "TQRcxTi9HwIe",
        "outputId": "2076ccb5-f67f-442b-c61a-a6975fe3a183"
      },
      "outputs": [],
      "source": [
        "plt.figure(figsize=(8, 6))\n",
        "sns.boxplot(x='Gender', y='Salary', data=df, palette='pastel')\n",
        "plt.title('Impact of Gender on Salary')\n",
        "plt.show()\n"
      ]
    },
    {
      "cell_type": "markdown",
      "metadata": {},
      "source": [
        "**Average `Salary` for Each `Job Title`:**"
      ]
    },
    {
      "cell_type": "code",
      "execution_count": null,
      "metadata": {},
      "outputs": [],
      "source": [
        "# Get the top 10 most repeated job titles\n",
        "top_job_titles = df['Job Title'].value_counts().head(10).index\n",
        "\n",
        "df_top_jobs = df[df['Job Title'].isin(top_job_titles)]\n",
        "\n",
        "plt.figure(figsize=(14, 6))\n",
        "sns.barplot(x='Job Title', y='Salary', data=df_top_jobs, palette='viridis')\n",
        "plt.title('Average Salary for Top 10 Most Repeated Job Titles')\n",
        "plt.xticks(rotation=30, ha='right')  \n",
        "plt.show()\n"
      ]
    },
    {
      "cell_type": "markdown",
      "metadata": {},
      "source": [
        "**`Salary Variation` with `Experience`**"
      ]
    },
    {
      "cell_type": "code",
      "execution_count": null,
      "metadata": {},
      "outputs": [],
      "source": [
        "plt.figure(figsize=(10, 6))\n",
        "sns.lineplot(x='Years of Experience', y='Salary', data=df, ci=None)\n",
        "plt.title('Salary Variation with Experience')\n",
        "plt.xlabel('Years of Experience')\n",
        "plt.ylabel('Salary')\n",
        "plt.show()\n"
      ]
    },
    {
      "cell_type": "markdown",
      "metadata": {},
      "source": [
        "**Highest-Paying `Job Titles`**"
      ]
    },
    {
      "cell_type": "code",
      "execution_count": null,
      "metadata": {},
      "outputs": [],
      "source": [
        "top_jobs = df.groupby('Job Title')['Salary'].mean().nlargest(10).index\n",
        "plt.figure(figsize=(14, 6))\n",
        "sns.barplot(x='Job Title', y='Salary', data=df[df['Job Title'].isin(top_jobs)], palette='viridis')\n",
        "plt.title('Top 10 Highest-Paying Job Titles')\n",
        "plt.xticks(rotation=45, ha='right')\n",
        "plt.show()\n"
      ]
    },
    {
      "cell_type": "markdown",
      "metadata": {},
      "source": [
        "**Lowest-Paying `Job Titles`**"
      ]
    },
    {
      "cell_type": "code",
      "execution_count": null,
      "metadata": {},
      "outputs": [],
      "source": [
        "bottom_jobs = df.groupby('Job Title')['Salary'].mean().nsmallest(10).index\n",
        "plt.figure(figsize=(14, 6))\n",
        "sns.barplot(x='Job Title', y='Salary', data=df[df['Job Title'].isin(bottom_jobs)], palette='viridis')\n",
        "plt.title('Top 10 Lowest-Paying Job Titles')\n",
        "plt.xticks(rotation=45, ha='right')\n",
        "plt.show()\n"
      ]
    },
    {
      "cell_type": "markdown",
      "metadata": {},
      "source": [
        "# **TRAINING AND TESTING PARTS START FROM HERE**"
      ]
    },
    {
      "cell_type": "code",
      "execution_count": null,
      "metadata": {
        "id": "DqMf6QA5Ohkw"
      },
      "outputs": [],
      "source": [
        "# Extract features and target variable for regression\n",
        "X_reg = df[['Years of Experience', 'Age', 'Education Level', 'Job Title', 'Gender']]\n",
        "y_reg = df['Salary']\n"
      ]
    },
    {
      "cell_type": "code",
      "execution_count": null,
      "metadata": {
        "id": "OV5Xu68HO12t"
      },
      "outputs": [],
      "source": [
        "# Split the dataset into training and testing sets for regression\n",
        "X_train_reg, X_test_reg, y_train_reg, y_test_reg = train_test_split(X_reg, y_reg, test_size=0.2, random_state=42)"
      ]
    },
    {
      "cell_type": "markdown",
      "metadata": {},
      "source": [
        "**ONE-HOT ENCODING HERE**"
      ]
    },
    {
      "cell_type": "code",
      "execution_count": null,
      "metadata": {
        "id": "FbIm2AOBQQqM"
      },
      "outputs": [],
      "source": [
        "# One-hot encode categorical variables (Job Title, Gender, Education Level)\n",
        "X_train_encoded = pd.get_dummies(X_train_reg, columns=['Job Title', 'Gender', 'Education Level'], drop_first=True)\n",
        "X_test_encoded = pd.get_dummies(X_test_reg, columns=['Job Title', 'Gender', 'Education Level'], drop_first=True)"
      ]
    },
    {
      "cell_type": "code",
      "execution_count": null,
      "metadata": {
        "id": "wFWKe8XdRknk"
      },
      "outputs": [],
      "source": [
        "# Align feature names between training and test sets\n",
        "X_train_encoded, X_test_encoded = X_train_encoded.align(X_test_encoded, join='left', axis=1, fill_value=0)"
      ]
    },
    {
      "cell_type": "markdown",
      "metadata": {},
      "source": [
        "**Initializing and train Random Forest, KNN, and Decision Tree models**\n"
      ]
    },
    {
      "cell_type": "code",
      "execution_count": null,
      "metadata": {
        "colab": {
          "base_uri": "https://localhost:8080/",
          "height": 74
        },
        "id": "Nutgl-i1QX33",
        "outputId": "d5a47415-3505-4846-afa1-f27456b049b5"
      },
      "outputs": [],
      "source": [
        "from sklearn.ensemble import RandomForestRegressor\n",
        "from sklearn.metrics import mean_squared_error, r2_score\n",
        "\n",
        "# Create and fit the Random Forest Regression model\n",
        "rf_model = RandomForestRegressor(random_state=42)\n",
        "rf_model.fit(X_train_encoded, y_train_reg)\n",
        "\n",
        "# Make predictions on the training data\n",
        "y_train_pred = rf_model.predict(X_train_encoded)\n",
        "\n",
        "# Calculate and print training performance metrics\n",
        "mse_train = mean_squared_error(y_train_reg, y_train_pred)\n",
        "r2_train = r2_score(y_train_reg, y_train_pred)\n",
        "\n",
        "print(\"Training Mean Squared Error:\", mse_train)\n",
        "print(\"Training R-squared:\", r2_train)\n"
      ]
    },
    {
      "cell_type": "code",
      "execution_count": null,
      "metadata": {},
      "outputs": [],
      "source": [
        "from sklearn.linear_model import LinearRegression\n",
        "from sklearn.metrics import mean_squared_error, mean_absolute_error, r2_score\n",
        "\n",
        "# Create a Linear Regression model\n",
        "linear_reg = LinearRegression()\n",
        "\n",
        "# Fit the model to the training data\n",
        "linear_reg.fit(X_train_encoded, y_train_reg)\n",
        "\n",
        "# Make predictions on the testing data\n",
        "y_pred = linear_reg.predict(X_test_encoded)\n",
        "\n",
        "# Evaluate the model's performance\n",
        "mse = mean_squared_error(y_test_reg, y_pred)\n",
        "mae = mean_absolute_error(y_test_reg, y_pred)\n",
        "r2 = r2_score(y_test_reg, y_pred)\n",
        "\n",
        "# Print the evaluation metrics\n",
        "print(\"Mean Squared Error:\", mse)\n",
        "print(\"Mean Absolute Error:\", mae)\n",
        "print(\"R-squared:\", r2)\n"
      ]
    },
    {
      "cell_type": "code",
      "execution_count": null,
      "metadata": {},
      "outputs": [],
      "source": [
        "from sklearn.neighbors import KNeighborsRegressor\n",
        "from sklearn.metrics import mean_squared_error, r2_score\n",
        "\n",
        "# Create and fit the KNN regression model\n",
        "knn_model = KNeighborsRegressor()\n",
        "knn_model.fit(X_train_encoded, y_train_reg)\n",
        "\n",
        "# Make predictions on the training data\n",
        "y_train_pred = knn_model.predict(X_train_encoded)\n",
        "\n",
        "# Calculate and print training performance metrics\n",
        "mse_train = mean_squared_error(y_train_reg, y_train_pred)\n",
        "r2_train = r2_score(y_train_reg, y_train_pred)\n",
        "\n",
        "print(\"Training Mean Squared Error:\", mse_train)\n",
        "print(\"Training R-squared:\", r2_train)\n"
      ]
    },
    {
      "cell_type": "code",
      "execution_count": null,
      "metadata": {},
      "outputs": [],
      "source": [
        "from sklearn.tree import DecisionTreeRegressor\n",
        "from sklearn.metrics import mean_squared_error, r2_score\n",
        "\n",
        "# Create and fit the Decision Tree Regression model\n",
        "tree_model = DecisionTreeRegressor(random_state=42)\n",
        "tree_model.fit(X_train_encoded, y_train_reg)\n",
        "\n",
        "# Make predictions on the training data\n",
        "y_train_pred = tree_model.predict(X_train_encoded)\n",
        "\n",
        "# Calculate and print training performance metrics\n",
        "mse_train = mean_squared_error(y_train_reg, y_train_pred)\n",
        "r2_train = r2_score(y_train_reg, y_train_pred)\n",
        "\n",
        "print(\"Training Mean Squared Error:\", mse_train)\n",
        "print(\"Training R-squared:\", r2_train)\n"
      ]
    },
    {
      "cell_type": "code",
      "execution_count": null,
      "metadata": {},
      "outputs": [],
      "source": [
        "from sklearn.metrics import mean_squared_error, r2_score\n",
        "\n",
        "# Create and fit the KNN Regression model\n",
        "knn_model = KNeighborsRegressor()\n",
        "knn_model.fit(X_train_encoded, y_train_reg)\n",
        "\n",
        "# Create and fit the Random Forest Regression model\n",
        "rf_model = RandomForestRegressor(random_state=42)\n",
        "rf_model.fit(X_train_encoded, y_train_reg)\n",
        "\n",
        "# Create and fit the Decision Tree Regression model\n",
        "tree_model = DecisionTreeRegressor(random_state=42)\n",
        "tree_model.fit(X_train_encoded, y_train_reg)\n",
        "\n",
        "# Define a function to print performance metrics\n",
        "def print_metrics(model, X, y, data_type):\n",
        "    y_pred = model.predict(X)\n",
        "    mse = mean_squared_error(y, y_pred)\n",
        "    r2 = r2_score(y, y_pred)\n",
        "    print(f\"{data_type} Mean Squared Error:\", mse)\n",
        "    print(f\"{data_type} R-squared:\", r2)\n",
        "\n",
        "# Print training performance metrics for all models\n",
        "print(\"Training Metrics:\")\n",
        "print(\"K-Nearest Neighbors:\")\n",
        "print_metrics(knn_model, X_train_encoded, y_train_reg, \"Training\")\n",
        "print(\"\\nRandom Forest:\")\n",
        "print_metrics(rf_model, X_train_encoded, y_train_reg, \"Training\")\n",
        "print(\"\\nDecision Tree:\")\n",
        "print_metrics(tree_model, X_train_encoded, y_train_reg, \"Training\")\n",
        "\n",
        "# Print testing performance metrics for all models\n",
        "print(\"\\nTesting Metrics:\")\n",
        "print(\"K-Nearest Neighbors:\")\n",
        "print_metrics(knn_model, X_test_encoded, y_test_reg, \"Testing\")\n",
        "print(\"\\nRandom Forest:\")\n",
        "print_metrics(rf_model, X_test_encoded, y_test_reg, \"Testing\")\n",
        "print(\"\\nDecision Tree:\")\n",
        "print_metrics(tree_model, X_test_encoded, y_test_reg, \"Testing\")\n"
      ]
    },
    {
      "cell_type": "code",
      "execution_count": null,
      "metadata": {},
      "outputs": [],
      "source": [
        "from sklearn.metrics import mean_squared_error\n",
        "\n",
        "# Assuming you have already trained the models and made predictions\n",
        "y_pred_linear = linear_reg.predict(X_test_encoded)\n",
        "y_pred_knn = knn_model.predict(X_test_encoded)\n",
        "y_pred_rf = rf_model.predict(X_test_encoded)\n",
        "y_pred_tree = tree_model.predict(X_test_encoded)\n",
        "\n",
        "# Calculate Mean Squared Error for each model\n",
        "mse_linear = mean_squared_error(y_test_reg, y_pred_linear)\n",
        "mse_knn = mean_squared_error(y_test_reg, y_pred_knn)\n",
        "mse_rf = mean_squared_error(y_test_reg, y_pred_rf)\n",
        "mse_tree = mean_squared_error(y_test_reg, y_pred_tree)\n"
      ]
    },
    {
      "cell_type": "code",
      "execution_count": null,
      "metadata": {},
      "outputs": [],
      "source": [
        "from sklearn.metrics import r2_score\n",
        "\n",
        "# Assuming you have already trained the models and made predictions\n",
        "y_pred_linear = linear_reg.predict(X_test_encoded)\n",
        "y_pred_knn = knn_model.predict(X_test_encoded)\n",
        "y_pred_rf = rf_model.predict(X_test_encoded)\n",
        "y_pred_tree = tree_model.predict(X_test_encoded)\n",
        "\n",
        "# Calculate R-squared (R2) for each model\n",
        "r2_linear = r2_score(y_test_reg, y_pred_linear)\n",
        "r2_knn = r2_score(y_test_reg, y_pred_knn)\n",
        "r2_rf = r2_score(y_test_reg, y_pred_rf)\n",
        "r2_tree = r2_score(y_test_reg, y_pred_tree)\n"
      ]
    },
    {
      "cell_type": "code",
      "execution_count": null,
      "metadata": {},
      "outputs": [],
      "source": [
        "import matplotlib.pyplot as plt\n",
        "\n",
        "# Define the model names and their respective performance metrics\n",
        "models = ['Linear Regression', 'KNN', 'Random Forest', 'Decision Tree']\n",
        "mse_scores = [mse_linear, mse_knn, mse_rf, mse_tree]  # Replace with your actual MSE values\n",
        "r2_scores = [r2_linear, r2_knn, r2_rf, r2_tree]  # Replace with your actual R2 values\n",
        "\n",
        "# Create a bar chart for Mean Squared Error\n",
        "plt.figure(figsize=(10, 6))\n",
        "plt.bar(models, mse_scores, color='royalblue')\n",
        "plt.title('Mean Squared Error for Different Regression Models')\n",
        "plt.xlabel('Model')\n",
        "plt.ylabel('Mean Squared Error')\n",
        "plt.xticks(rotation=15)\n",
        "plt.show()\n",
        "\n",
        "# Create a bar chart for R-squared\n",
        "plt.figure(figsize=(10, 6))\n",
        "plt.bar(models, r2_scores, color='forestgreen')\n",
        "plt.title('R-squared for Different Regression Models')\n",
        "plt.xlabel('Model')\n",
        "plt.ylabel('R-squared')\n",
        "plt.xticks(rotation=15)\n",
        "plt.show()\n"
      ]
    },
    {
      "cell_type": "code",
      "execution_count": null,
      "metadata": {},
      "outputs": [],
      "source": [
        "from sklearn.metrics import mean_squared_error, r2_score\n",
        "\n",
        "# Assuming you have already trained the models and made predictions on the test data\n",
        "# Replace y_pred_linear, y_pred_knn, y_pred_rf, y_pred_tree with your actual predictions\n",
        "y_pred_linear = linear_reg.predict(X_test_encoded)\n",
        "y_pred_knn = knn_model.predict(X_test_encoded)\n",
        "y_pred_rf = rf_model.predict(X_test_encoded)\n",
        "y_pred_tree = tree_model.predict(X_test_encoded)\n",
        "\n",
        "# Calculate Mean Squared Error (MSE) for each model\n",
        "mse_linear = mean_squared_error(y_test_reg, y_pred_linear)\n",
        "mse_knn = mean_squared_error(y_test_reg, y_pred_knn)\n",
        "mse_rf = mean_squared_error(y_test_reg, y_pred_rf)\n",
        "mse_tree = mean_squared_error(y_test_reg, y_pred_tree)\n",
        "\n",
        "# Calculate R-squared (R2) for each model\n",
        "r2_linear = r2_score(y_test_reg, y_pred_linear)\n",
        "r2_knn = r2_score(y_test_reg, y_pred_knn)\n",
        "r2_rf = r2_score(y_test_reg, y_pred_rf)\n",
        "r2_tree = r2_score(y_test_reg, y_pred_tree)\n",
        "\n",
        "# Create a dictionary to store the model names and their respective MSE and R2 values\n",
        "model_metrics = {\n",
        "    'Linear Regression': (mse_linear, r2_linear),\n",
        "    'KNN': (mse_knn, r2_knn),\n",
        "    'Random Forest': (mse_rf, r2_rf),\n",
        "    'Decision Tree': (mse_tree, r2_tree)\n",
        "}\n",
        "\n",
        "# Determine the best model based on MSE and R2\n",
        "best_model = min(model_metrics, key=lambda model: (model_metrics[model][0], -model_metrics[model][1]))\n",
        "\n",
        "print(f\"The best model for predicting salary is: {best_model}\")\n",
        "print(f\"Mean Squared Error: {model_metrics[best_model][0]}\")\n",
        "print(f\"R-squared (R2): {model_metrics[best_model][1]}\")\n"
      ]
    },
    {
      "cell_type": "markdown",
      "metadata": {},
      "source": [
        "**Predict on the test set for all models**\n"
      ]
    },
    {
      "cell_type": "code",
      "execution_count": null,
      "metadata": {
        "id": "8KOOlDLwQf6w"
      },
      "outputs": [],
      "source": [
        "y_pred_rf = rf_model.predict(X_test_encoded)\n",
        "y_pred_knn = knn_model.predict(X_test_encoded)\n",
        "y_pred_tree = tree_model.predict(X_test_encoded)\n"
      ]
    },
    {
      "cell_type": "markdown",
      "metadata": {},
      "source": [
        "**Evaluate the models**\n"
      ]
    },
    {
      "cell_type": "code",
      "execution_count": null,
      "metadata": {
        "colab": {
          "base_uri": "https://localhost:8080/"
        },
        "id": "ll7jaY7PR55e",
        "outputId": "d78f3993-ad4a-4077-f7e0-56d40f3790c6"
      },
      "outputs": [],
      "source": [
        "mse_tree = mean_squared_error(y_test_reg, y_pred_tree)\n",
        "print(f'Mean Squared Error (Decision Tree): {mse_tree}')"
      ]
    },
    {
      "cell_type": "code",
      "execution_count": null,
      "metadata": {},
      "outputs": [],
      "source": [
        "mse_knn = mean_squared_error(y_test_reg, y_pred_knn)\n",
        "print(f'Mean Squared Error (KNN): {mse_knn}')"
      ]
    },
    {
      "cell_type": "markdown",
      "metadata": {},
      "source": [
        "**Model Selection: SELECTING RANDOM FOREST AS IT GOT THE LOWEST MEAN SQUARE**"
      ]
    },
    {
      "cell_type": "code",
      "execution_count": null,
      "metadata": {},
      "outputs": [],
      "source": [
        "mse_rf = mean_squared_error(y_test_reg, y_pred_rf)\n",
        "print(f'Mean Squared Error (Random Forest): {mse_rf}')"
      ]
    },
    {
      "cell_type": "code",
      "execution_count": null,
      "metadata": {},
      "outputs": [],
      "source": [
        "# Assuming 'df' is your DataFrame\n",
        "feature_names = df.columns\n",
        "\n",
        "# Print the feature names\n",
        "print(\"Feature Names:\")\n",
        "for feature in feature_names:\n",
        "    print(feature)\n"
      ]
    },
    {
      "cell_type": "code",
      "execution_count": null,
      "metadata": {},
      "outputs": [],
      "source": [
        "# Assuming 'X_train_encoded' is your training dataset\n",
        "# If you have multiple features, it will show a subset due to the display limit\n",
        "pd.set_option('display.max_columns', None)  # Show all columns\n",
        "pd.set_option('display.max_rows', None)  # Show all rows\n",
        "print(X_train_encoded)\n"
      ]
    },
    {
      "cell_type": "markdown",
      "metadata": {},
      "source": [
        "**Accuracy Check**"
      ]
    },
    {
      "cell_type": "code",
      "execution_count": null,
      "metadata": {
        "colab": {
          "base_uri": "https://localhost:8080/"
        },
        "id": "MPeSQvioWrMp",
        "outputId": "7ff3410b-6a93-43a1-ce86-fb208b66ed2b"
      },
      "outputs": [],
      "source": [
        "# Compare predicted salaries to actual salaries\n",
        "df_results = pd.DataFrame({'Actual Salary': y_test_reg, 'Predicted Salary (Random Forest)': y_pred_rf})\n",
        "print(df_results.head(10))  # Display the first 10 rows for comparison\n"
      ]
    },
    {
      "cell_type": "code",
      "execution_count": null,
      "metadata": {},
      "outputs": [],
      "source": [
        "# Calculate Mean Squared Error (MSE)\n",
        "mse = mean_squared_error(y_test_reg, y_pred_rf)\n",
        "print(f'Mean Squared Error: {mse}')"
      ]
    },
    {
      "cell_type": "code",
      "execution_count": null,
      "metadata": {
        "id": "EDSMNg5xgw69"
      },
      "outputs": [],
      "source": [
        "# Calculate Mean Absolute Error (MAE)\n",
        "mae = mean_absolute_error(y_test_reg, y_pred_rf)\n",
        "print(f'Mean Absolute Error: {mae}')"
      ]
    },
    {
      "cell_type": "code",
      "execution_count": null,
      "metadata": {
        "colab": {
          "base_uri": "https://localhost:8080/"
        },
        "id": "WAlF12H5hLup",
        "outputId": "dfeccbf6-bc0a-40d8-a067-0302e33b63ce"
      },
      "outputs": [],
      "source": [
        "# Calculate R-squared (R2) score\n",
        "r2 = r2_score(y_test_reg, y_pred_rf)\n",
        "print(f'R-squared (R2) Score: {r2}')"
      ]
    },
    {
      "cell_type": "code",
      "execution_count": null,
      "metadata": {
        "colab": {
          "base_uri": "https://localhost:8080/"
        },
        "id": "L52ozznThU5H",
        "outputId": "e1cec5a2-6869-4f38-f117-dea110583276"
      },
      "outputs": [],
      "source": [
        "# Display the first 10 rows for comparison\n",
        "df_results = pd.DataFrame({'Actual Salary': y_test_reg, 'Predicted Salary (Random Forest)': y_pred_rf})\n",
        "print(df_results.head(10))"
      ]
    },
    {
      "cell_type": "markdown",
      "metadata": {},
      "source": [
        "**Comparison of Actual and Predicted Salaries using Random Forest**"
      ]
    },
    {
      "cell_type": "code",
      "execution_count": null,
      "metadata": {
        "colab": {
          "base_uri": "https://localhost:8080/",
          "height": 764
        },
        "id": "9jTS46fKhxQI",
        "outputId": "a5b1e614-ce8a-49f0-e98e-af1088399922"
      },
      "outputs": [],
      "source": [
        "# Compare predicted salaries to actual salaries\n",
        "df_results = pd.DataFrame({'Actual Salary': y_test_reg, 'Predicted Salary (Random Forest)': y_pred_rf})\n",
        "\n",
        "# Display the first 10 rows for comparison\n",
        "print(df_results.head(10))\n",
        "\n",
        "# Plot the first 100 samples for visual comparison\n",
        "plt.figure(figsize=(12, 6))\n",
        "sns.lineplot(x=range(1, 101), y='Actual Salary', data=df_results.head(100), label='Actual Salary')\n",
        "sns.lineplot(x=range(1, 101), y='Predicted Salary (Random Forest)', data=df_results.head(100), label='Predicted Salary (Random Forest)')\n",
        "plt.title('Actual vs Predicted Salaries')\n",
        "plt.xlabel('Sample')\n",
        "plt.ylabel('Salary')\n",
        "plt.legend()\n",
        "plt.show()"
      ]
    },
    {
      "cell_type": "markdown",
      "metadata": {},
      "source": [
        "**Creating and Visualizing Predictions for KNN and Decision Tree Models**"
      ]
    },
    {
      "cell_type": "code",
      "execution_count": null,
      "metadata": {
        "id": "LHFWQ3K0aVzB"
      },
      "outputs": [],
      "source": [
        "\n",
        "# predictions from your models\n",
        "predictions_knn = knn_model.predict(X_test_encoded)\n",
        "predictions_tree = tree_model.predict(X_test_encoded)\n",
        "\n",
        "# Create a DataFrame for predictions with the same index as the test set\n",
        "df_predictions = pd.DataFrame({\n",
        "    'Predicted_Salary_KNN': predictions_knn,\n",
        "    'Predicted_Salary_Tree': predictions_tree,\n",
        "}, index=X_test_encoded.index)\n",
        "\n",
        "# Concatenate the predictions DataFrame with the original DataFrame\n",
        "df = pd.concat([df, df_predictions], axis=1)\n",
        "\n",
        "# Drop rows with missing values in Salary or Predicted_Salary_KNN\n",
        "df_plot_knn = df[['Salary', 'Predicted_Salary_KNN']].dropna()"
      ]
    },
    {
      "cell_type": "code",
      "execution_count": null,
      "metadata": {},
      "outputs": [],
      "source": [
        "# Drop rows with missing values in Salary or Predicted_Salary_Tree\n",
        "df_plot_tree = df[['Salary', 'Predicted_Salary_Tree']].dropna()"
      ]
    },
    {
      "cell_type": "code",
      "execution_count": null,
      "metadata": {},
      "outputs": [],
      "source": [
        "# Drop duplicate columns\n",
        "df_plot_knn = df_plot_knn.loc[:, ~df_plot_knn.columns.duplicated()]\n",
        "df_plot_tree = df_plot_tree.loc[:, ~df_plot_tree.columns.duplicated()]"
      ]
    },
    {
      "cell_type": "markdown",
      "metadata": {},
      "source": [
        "# VISUALIZATION OF ACTUAL VS PREDICTED SALARY/OTHER GRAPHS"
      ]
    },
    {
      "cell_type": "markdown",
      "metadata": {},
      "source": [
        "**`Actual` vs. `Predicted` Values for KNN**\n"
      ]
    },
    {
      "cell_type": "code",
      "execution_count": null,
      "metadata": {
        "colab": {
          "base_uri": "https://localhost:8080/",
          "height": 480
        },
        "id": "KosiEZgtfu4o",
        "outputId": "68c4aa5e-d76d-4ca4-b45c-7047e310cc75"
      },
      "outputs": [],
      "source": [
        "# Visualize the actual vs. predicted values for KNN\n",
        "plt.scatter(df_plot_knn['Salary'], df_plot_knn['Predicted_Salary_KNN'], alpha=0.5)\n",
        "plt.title('KNN: Actual vs. Predicted Salary')\n",
        "plt.xlabel('Actual Salary')\n",
        "plt.ylabel('Predicted Salary (KNN)')\n",
        "plt.show()\n"
      ]
    },
    {
      "cell_type": "markdown",
      "metadata": {},
      "source": [
        "**`Actual` vs. `Predicted` Values for Decision Tree**\n"
      ]
    },
    {
      "cell_type": "code",
      "execution_count": null,
      "metadata": {
        "colab": {
          "base_uri": "https://localhost:8080/",
          "height": 480
        },
        "id": "ZLjZPQGbfyTZ",
        "outputId": "07117bed-d840-4c0c-a7c3-1279c46c8f34"
      },
      "outputs": [],
      "source": [
        "plt.scatter(df_plot_tree['Salary'], df_plot_tree['Predicted_Salary_Tree'], alpha=0.5)\n",
        "plt.title('Decision Tree: Actual vs. Predicted Salary')\n",
        "plt.xlabel('Actual Salary')\n",
        "plt.ylabel('Predicted Salary (Tree)')\n",
        "plt.show()"
      ]
    },
    {
      "cell_type": "markdown",
      "metadata": {},
      "source": [
        "**Scatter Plot for `Random Forest Regression`**"
      ]
    },
    {
      "cell_type": "code",
      "execution_count": null,
      "metadata": {
        "colab": {
          "base_uri": "https://localhost:8080/",
          "height": 573
        },
        "id": "kN81noTgf7ix",
        "outputId": "e9c8d782-b69f-455f-d0f7-b4f07001b852"
      },
      "outputs": [],
      "source": [
        "plt.figure(figsize=(10, 6))\n",
        "plt.scatter(y_test_reg, y_pred_rf, alpha=0.5)\n",
        "plt.title('Random Forest Regression: Actual vs. Predicted Values')\n",
        "plt.xlabel('Actual Salary')\n",
        "plt.ylabel('Predicted Salary')\n",
        "plt.show()"
      ]
    },
    {
      "cell_type": "markdown",
      "metadata": {},
      "source": [
        "**Bar chart for `Random Forest Feature Importance`**\n"
      ]
    },
    {
      "cell_type": "code",
      "execution_count": null,
      "metadata": {
        "colab": {
          "base_uri": "https://localhost:8080/",
          "height": 573
        },
        "id": "1XhtK7HdgFq6",
        "outputId": "b4f1c6f6-19ce-44de-ae3a-71900f67103e"
      },
      "outputs": [],
      "source": [
        "feature_importance = pd.Series(rf_model.feature_importances_, index=X_train_encoded.columns)\n",
        "feature_importance.nlargest(10).plot(kind='barh', figsize=(10, 6))\n",
        "plt.title('Top 10 Feature Importance - Random Forest')\n",
        "plt.xlabel('Feature Importance')\n",
        "plt.ylabel('Features')\n",
        "plt.show()"
      ]
    },
    {
      "cell_type": "markdown",
      "metadata": {},
      "source": [
        "**Predicting salary based on experience**"
      ]
    },
    {
      "cell_type": "code",
      "execution_count": null,
      "metadata": {},
      "outputs": [],
      "source": [
        "\n",
        "def predict_salary_random_forest(model, input_data, feature_names):\n",
        "    # Align feature names\n",
        "    input_data = input_data.reindex(columns=feature_names, fill_value=0)\n",
        "    \n",
        "    # Predict using the Random Forest model\n",
        "    predicted_salary = model.predict(input_data)\n",
        "    return predicted_salary[0]\n",
        "\n",
        "if __name__ == \"__main__\":\n",
        "    rf_model = RandomForestRegressor(random_state=42)\n",
        "    X_reg = df[['Years of Experience', 'Age', 'Education Level', 'Job Title', 'Gender']]\n",
        "    y_reg = df['Salary']\n",
        "    \n",
        "    X_reg_encoded = pd.get_dummies(X_reg, columns=['Education Level', 'Job Title', 'Gender'], drop_first=True)\n",
        "    \n",
        "    X_train_reg, X_test_reg, y_train_reg, y_test_reg = train_test_split(\n",
        "        X_reg_encoded, y_reg, test_size=0.2, random_state=42\n",
        "    )\n",
        "    \n",
        "    # Fit the Random Forest model\n",
        "    rf_model.fit(X_train_reg, y_train_reg)\n",
        "\n",
        "    # Get the feature names\n",
        "    feature_names = X_train_reg.columns.tolist()\n",
        "\n",
        "    print(\"Enter the number of years of experience to predict salary using Random Forest:\")\n",
        "    try:\n",
        "        years_of_experience = float(input().strip())\n",
        "        # Check if the input is non-negative\n",
        "        if years_of_experience < 0:\n",
        "            raise ValueError(\"Invalid input. Please enter a non-negative numeric value for years of experience.\")\n",
        "        \n",
        "        # Preprocess the input for prediction\n",
        "        #default values 0 are set below, set accordingly\n",
        "        input_data = pd.DataFrame({\n",
        "            'Years of Experience': [years_of_experience],\n",
        "            'Age': [0],  \n",
        "            'Education Level_high school': [0], \n",
        "            'Education Level_master\\'s degree': [0],\n",
        "            'Education Level_phd': [0],\n",
        "            'Job Title_data analyst': [0],\n",
        "            'Job Title_data scientist': [0],\n",
        "            'Job Title_product manager': [0],\n",
        "            'Job Title_sales associate': [0],\n",
        "            'Job Title_senior manager': [0],\n",
        "            'Job Title_software engineer': [0],\n",
        "            'Gender_male': [0],\n",
        "        })\n",
        "        \n",
        "        predicted_salary_rf = predict_salary_random_forest(rf_model, input_data, feature_names)\n",
        "        print(f\"Predicted Salary using Random Forest: ${predicted_salary_rf:.2f}\")\n",
        "    except ValueError as ve:\n",
        "        print(ve)\n",
        "    except Exception as e:\n",
        "        print(f\"An unexpected error occurred: {e}\")\n"
      ]
    }
  ],
  "metadata": {
    "colab": {
      "provenance": []
    },
    "kernelspec": {
      "display_name": "Python 3",
      "name": "python3"
    },
    "language_info": {
      "codemirror_mode": {
        "name": "ipython",
        "version": 3
      },
      "file_extension": ".py",
      "mimetype": "text/x-python",
      "name": "python",
      "nbconvert_exporter": "python",
      "pygments_lexer": "ipython3",
      "version": "3.11.2"
    }
  },
  "nbformat": 4,
  "nbformat_minor": 0
}
